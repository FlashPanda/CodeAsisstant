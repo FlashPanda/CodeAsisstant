{
 "cells": [
  {
   "cell_type": "code",
   "execution_count": 1,
   "id": "1ab8e11f-4c86-419b-a51f-387430f0a6bd",
   "metadata": {},
   "outputs": [
    {
     "name": "stderr",
     "output_type": "stream",
     "text": [
      "C:\\Users\\xuelangyun\\AppData\\Roaming\\Python\\Python312\\site-packages\\transformers\\tokenization_utils_base.py:1601: FutureWarning: `clean_up_tokenization_spaces` was not set. It will be set to `True` by default. This behavior will be depracted in transformers v4.45, and will be then set to `False` by default. For more details check this issue: https://github.com/huggingface/transformers/issues/31884\n",
      "  warnings.warn(\n"
     ]
    },
    {
     "name": "stdout",
     "output_type": "stream",
     "text": [
      "{'input_ids': <tf.Tensor: shape=(1, 8), dtype=int32, numpy=array([[16594,   257, 11361,  2163,   284, 15284,  1109,  5132]])>, 'attention_mask': <tf.Tensor: shape=(1, 8), dtype=int32, numpy=array([[1, 1, 1, 1, 1, 1, 1, 1]])>}\n"
     ]
    },
    {
     "name": "stderr",
     "output_type": "stream",
     "text": [
      "C:\\Users\\xuelangyun\\AppData\\Roaming\\Python\\Python312\\site-packages\\transformers\\tokenization_utils_base.py:1601: FutureWarning: `clean_up_tokenization_spaces` was not set. It will be set to `True` by default. This behavior will be depracted in transformers v4.45, and will be then set to `False` by default. For more details check this issue: https://github.com/huggingface/transformers/issues/31884\n",
      "  warnings.warn(\n",
      "IOPub data rate exceeded.\n",
      "The Jupyter server will temporarily stop sending output\n",
      "to the client in order to avoid crashing it.\n",
      "To change this limit, set the config variable\n",
      "`--ServerApp.iopub_data_rate_limit`.\n",
      "\n",
      "Current values:\n",
      "ServerApp.iopub_data_rate_limit=1000000.0 (bytes/sec)\n",
      "ServerApp.rate_limit_window=3.0 (secs)\n",
      "\n"
     ]
    },
    {
     "name": "stdout",
     "output_type": "stream",
     "text": [
      "\n"
     ]
    }
   ],
   "source": [
    "from transformers import AutoTokenizer\n",
    "import pickle\n",
    "\n",
    "tokenizerGpt2 = AutoTokenizer.from_pretrained(\"gpt2\")\n",
    "input_text = \"Write a Python function to calculate factorial\"\n",
    "tokenized_input = tokenizerGpt2(input_text, return_tensors=\"tf\")\n",
    "print(tokenized_input)\n",
    "\n",
    "tokenizerBert = AutoTokenizer.from_pretrained(\"bert-base-uncased\")\n",
    "tokenized_input = tokenizerBert(input_text, return_tensors=\"tf\")\n",
    "print(tokenized_input)\n",
    "\n",
    "\n",
    "with open('python_licenses.pkl', 'rb') as f:\n",
    "    data = pickle.load(f)\n",
    "    print(data)"
   ]
  },
  {
   "cell_type": "markdown",
   "id": "c949032b-b0ac-4194-a32c-947731f88d97",
   "metadata": {},
   "source": [
    "Use this to test"
   ]
  },
  {
   "cell_type": "code",
   "execution_count": null,
   "id": "7cddc921-f9a1-4371-b819-d946ce91ce69",
   "metadata": {},
   "outputs": [],
   "source": [
    "input_text = \"Write a Python function to reverse a string\"\n",
    "tokenized_input = tokenizer(input_text, return_tensors=\"tf\")\n",
    "output = model.generate(tokenized_input['input_ids'], max_length=50)\n",
    "generated_code = tokenizer.decode(output[0], skip_special_tokens=True)\n",
    "print(generated_code)"
   ]
  },
  {
   "cell_type": "code",
   "execution_count": null,
   "id": "9704a915-84a8-4a65-9943-c91819b99bf4",
   "metadata": {},
   "outputs": [],
   "source": []
  }
 ],
 "metadata": {
  "kernelspec": {
   "display_name": "Python 3 (ipykernel)",
   "language": "python",
   "name": "python3"
  },
  "language_info": {
   "codemirror_mode": {
    "name": "ipython",
    "version": 3
   },
   "file_extension": ".py",
   "mimetype": "text/x-python",
   "name": "python",
   "nbconvert_exporter": "python",
   "pygments_lexer": "ipython3",
   "version": "3.12.4"
  }
 },
 "nbformat": 4,
 "nbformat_minor": 5
}
